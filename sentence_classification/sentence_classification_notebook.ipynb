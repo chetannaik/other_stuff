{
 "cells": [
  {
   "cell_type": "code",
   "execution_count": 1,
   "metadata": {
    "collapsed": true
   },
   "outputs": [],
   "source": [
    "import math\n",
    "import pandas as pd\n",
    "import preprocess\n",
    "import feature_extractor\n",
    "\n",
    "from sklearn import metrics\n",
    "from sklearn.metrics import classification_report\n",
    "from sklearn.metrics import accuracy_score\n",
    "from sklearn.metrics import roc_curve, auc\n",
    "\n",
    "from sklearn.naive_bayes import MultinomialNB\n",
    "from sklearn.neighbors import KNeighborsClassifier\n",
    "from sklearn.linear_model import LogisticRegression\n",
    "from sklearn.ensemble import RandomForestClassifier, AdaBoostClassifier"
   ]
  },
  {
   "cell_type": "code",
   "execution_count": 2,
   "metadata": {
    "collapsed": true
   },
   "outputs": [],
   "source": [
    "# read data file\n",
    "raw_df = pd.read_csv(\"filtered_sentences.tsv\", sep=\"\\t\")"
   ]
  },
  {
   "cell_type": "code",
   "execution_count": 3,
   "metadata": {
    "collapsed": true
   },
   "outputs": [],
   "source": [
    "# preprocess\n",
    "data = preprocess.process_data(raw_df)"
   ]
  },
  {
   "cell_type": "code",
   "execution_count": 4,
   "metadata": {
    "collapsed": false
   },
   "outputs": [],
   "source": [
    "raw_sentences = map(lambda x: x['SENTENCE'], data.values())\n",
    "processed_sentences = map(lambda x: x['PROCESSED'], data.values())\n",
    "labels = map(lambda x: x['LABEL'], data.values())"
   ]
  },
  {
   "cell_type": "code",
   "execution_count": 5,
   "metadata": {
    "collapsed": false
   },
   "outputs": [],
   "source": [
    "test_split = 0.3\n",
    "num_test_items = int(math.ceil(test_split*(len(processed_sentences))))\n",
    "\n",
    "train_sentences = processed_sentences[:-num_test_items]\n",
    "train_labels = labels[:-num_test_items]\n",
    "test_sentences = processed_sentences[-num_test_items:]\n",
    "test_labels = labels[-num_test_items:]"
   ]
  },
  {
   "cell_type": "code",
   "execution_count": 6,
   "metadata": {
    "collapsed": false
   },
   "outputs": [],
   "source": [
    "Xtrn, Xtst, Ytrn, Ytst = feature_extractor.get_tfidf_features(\n",
    "        train_sentences, test_sentences, train_labels, test_labels)"
   ]
  },
  {
   "cell_type": "code",
   "execution_count": 7,
   "metadata": {
    "collapsed": false
   },
   "outputs": [
    {
     "data": {
      "text/html": [
       "<div>\n",
       "<table border=\"1\" class=\"dataframe\">\n",
       "  <thead>\n",
       "    <tr style=\"text-align: right;\">\n",
       "      <th></th>\n",
       "      <th>AdaBoostClassifier</th>\n",
       "      <th>Logistic Regression</th>\n",
       "      <th>Multinomial Naive Bayes</th>\n",
       "      <th>Nearest Neighbors</th>\n",
       "      <th>RandomForestClassifier</th>\n",
       "    </tr>\n",
       "  </thead>\n",
       "  <tbody>\n",
       "    <tr>\n",
       "      <th>precision</th>\n",
       "      <td>0.6666667</td>\n",
       "      <td>0.6666667</td>\n",
       "      <td>0.6666667</td>\n",
       "      <td>0.6666667</td>\n",
       "      <td>0.6666667</td>\n",
       "    </tr>\n",
       "    <tr>\n",
       "      <th>recall</th>\n",
       "      <td>1</td>\n",
       "      <td>1</td>\n",
       "      <td>1</td>\n",
       "      <td>1</td>\n",
       "      <td>1</td>\n",
       "    </tr>\n",
       "    <tr>\n",
       "      <th>f1_score</th>\n",
       "      <td>0.8</td>\n",
       "      <td>0.8</td>\n",
       "      <td>0.8</td>\n",
       "      <td>0.8</td>\n",
       "      <td>0.8</td>\n",
       "    </tr>\n",
       "    <tr>\n",
       "      <th>accuracy</th>\n",
       "      <td>0.6666667</td>\n",
       "      <td>0.6666667</td>\n",
       "      <td>0.6666667</td>\n",
       "      <td>0.6666667</td>\n",
       "      <td>0.6666667</td>\n",
       "    </tr>\n",
       "  </tbody>\n",
       "</table>\n",
       "</div>"
      ],
      "text/plain": [
       "          AdaBoostClassifier Logistic Regression Multinomial Naive Bayes  \\\n",
       "precision          0.6666667           0.6666667               0.6666667   \n",
       "recall                     1                   1                       1   \n",
       "f1_score                 0.8                 0.8                     0.8   \n",
       "accuracy           0.6666667           0.6666667               0.6666667   \n",
       "\n",
       "          Nearest Neighbors RandomForestClassifier  \n",
       "precision         0.6666667              0.6666667  \n",
       "recall                    1                      1  \n",
       "f1_score                0.8                    0.8  \n",
       "accuracy          0.6666667              0.6666667  "
      ]
     },
     "execution_count": 7,
     "metadata": {},
     "output_type": "execute_result"
    }
   ],
   "source": [
    "clfs = [KNeighborsClassifier(), MultinomialNB(), LogisticRegression(), RandomForestClassifier(n_estimators=100, n_jobs=2), AdaBoostClassifier(n_estimators=100)]\n",
    "clf_names = ['Nearest Neighbors', 'Multinomial Naive Bayes', 'Logistic Regression', 'RandomForestClassifier', 'AdaBoostClassifier']\n",
    "\n",
    "results = {}\n",
    "for (i, clf_) in enumerate(clfs):\n",
    "    clf = clf_.fit(Xtrn, Ytrn)\n",
    "    preds = clf.predict(Xtst)\n",
    "    \n",
    "    precision = metrics.precision_score(Ytst, preds)\n",
    "    recall = metrics.recall_score(Ytst, preds)\n",
    "    f1 = metrics.f1_score(Ytst, preds)\n",
    "    accuracy = accuracy_score(Ytst, preds)\n",
    "    # report = classification_report(Ytst, preds)\n",
    "    # matrix = metrics.confusion_matrix(Ytst, preds, labels=list(set(labels)))\n",
    "    \n",
    "    data = {'precision':precision,\n",
    "            'recall':recall,\n",
    "            'f1_score':f1,\n",
    "            'accuracy':accuracy,\n",
    "            # 'clf_report':report,\n",
    "            # 'clf_matrix':matrix,\n",
    "            'y_predicted':preds}\n",
    "    \n",
    "    results[clf_names[i]] = data\n",
    "\n",
    "cols = ['precision', 'recall', 'f1_score', 'accuracy']\n",
    "pd.DataFrame(results).T[cols].T"
   ]
  },
  {
   "cell_type": "code",
   "execution_count": null,
   "metadata": {
    "collapsed": true
   },
   "outputs": [],
   "source": []
  }
 ],
 "metadata": {
  "kernelspec": {
   "display_name": "Python 2",
   "language": "python",
   "name": "python2"
  },
  "language_info": {
   "codemirror_mode": {
    "name": "ipython",
    "version": 2
   },
   "file_extension": ".py",
   "mimetype": "text/x-python",
   "name": "python",
   "nbconvert_exporter": "python",
   "pygments_lexer": "ipython2",
   "version": "2.7.10"
  }
 },
 "nbformat": 4,
 "nbformat_minor": 0
}
